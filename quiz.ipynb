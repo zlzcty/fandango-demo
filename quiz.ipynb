{
 "cells": [
  {
   "cell_type": "markdown",
   "id": "783b4752",
   "metadata": {},
   "source": [
    "#### **What is the main purpose of using Fandango, and what makes it different from other fuzzers?**\n",
    "\n",
    "1. It performs instrumentation to collect runtime coverage data for feedback-guided fuzzing.\n",
    "2. It generates syntactically valid and constraint-aware inputs based on a input specification including grammar rules and Python constraints.\n",
    "3. It randomly mutates input sequences\n",
    "4. It is designed specifically for network protocol fuzzing and packet mutation."
   ]
  },
  {
   "cell_type": "markdown",
   "id": "2a9682bf",
   "metadata": {},
   "source": [
    "Answer: (2)"
   ]
  },
  {
   "cell_type": "markdown",
   "id": "3a4ba2d1",
   "metadata": {},
   "source": [
    "\n",
    "#### **Why should we provide a non-recursive alternative for Fandango grammars?**\n",
    "\n",
    "1. Fandango will crash upon detecting infinite recursion. \n",
    "2. Fandango does not support recursion. \n",
    "3. A non-recursive alternative is needed for the Fandango dancer to show up for fuzzing purposes.\n",
    "4. Fandango does not detect infinite recursions; it keeps running until manually stopped"
   ]
  },
  {
   "cell_type": "markdown",
   "id": "a0790092",
   "metadata": {},
   "source": [
    "Answer: (4)"
   ]
  },
  {
   "cell_type": "markdown",
   "id": "5abb9433",
   "metadata": {},
   "source": [
    "#### **Why do we use grammars to describe network protocols in Fandango instead of sending random bytes directly?**\n",
    "1. Because grammars preserve the protocol’s structure and valid message order, allowing fuzzing to explore meaningful variations without breaking basic syntax.\n",
    "2. Because grammars make the fuzzing process slower but more secure.\n",
    "3. Because grammars completely prevent all network errors and crashes.\n",
    "4. Because grammars allow us to bypass protocol authentication steps automatically."
   ]
  },
  {
   "cell_type": "markdown",
   "id": "13887eb9",
   "metadata": {},
   "source": [
    "Answer: (1)"
   ]
  }
 ],
 "metadata": {
  "language_info": {
   "name": "python"
  }
 },
 "nbformat": 4,
 "nbformat_minor": 5
}