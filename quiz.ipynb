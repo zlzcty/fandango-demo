{
 "cells": [
  {
   "cell_type": "markdown",
   "id": "3a4ba2d1",
   "metadata": {},
   "source": [
    "Question:\n",
    "Why should we provide a non-recursive alternative for Fandango grammars?\n",
    "1. Fandango will crash upon detecting infinite recursion. \n",
    "2. Fandango does not support recursion. \n",
    "3. A non-recursive alternative is needed for the Fandango dancer to show up for fuzzing purposes.\n",
    "4. Fandango does not detect infinite recursions; it keeps running until manually stopped"
   ]
  }
 ],
 "metadata": {
  "language_info": {
   "name": "python"
  }
 },
 "nbformat": 4,
 "nbformat_minor": 5
}
