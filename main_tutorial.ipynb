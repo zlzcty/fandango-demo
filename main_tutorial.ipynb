{
 "cells": [
  {
   "cell_type": "markdown",
   "id": "7b4ab8eb",
   "metadata": {},
   "source": [
    "## Interaction using Python API\n"
   ]
  }
 ],
 "metadata": {
  "language_info": {
   "name": "python"
  }
 },
 "nbformat": 4,
 "nbformat_minor": 5
}
