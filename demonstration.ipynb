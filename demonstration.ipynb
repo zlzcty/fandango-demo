{
 "cells": [
  {
   "cell_type": "markdown",
   "id": "e7a8faaf",
   "metadata": {},
   "source": [
    "## Install"
   ]
  },
  {
   "cell_type": "markdown",
   "id": "121ab5c8",
   "metadata": {},
   "source": [
    "Fandango is installed as a python module and can be accessed through the command line. The easiest way to install is to run `pip install fandango-fuzzer`. After this, Fandango can be accessed through the terminal using `fandango` (or `python -m fandango`) in the same environment as where it was installed.\n",
    "\n",
    "On Windows, if there are no pre-built wheels, Microsoft Visual Studio Build Tools and the Windows 10 SDK are required to build Fandango."
   ]
  },
  {
   "cell_type": "markdown",
   "id": "d333812b",
   "metadata": {},
   "source": [
    "## Converting to the .fan specification"
   ]
  },
  {
   "cell_type": "markdown",
   "id": "7b4ab8eb",
   "metadata": {},
   "source": [
    "## Interaction using Python API\n"
   ]
  }
 ],
 "metadata": {
  "language_info": {
   "name": "python"
  }
 },
 "nbformat": 4,
 "nbformat_minor": 5
}
