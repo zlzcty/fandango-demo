{
 "cells": [
  {
   "cell_type": "markdown",
   "id": "e7a8faaf",
   "metadata": {},
   "source": [
    "## Install"
   ]
  },
  {
   "cell_type": "markdown",
   "id": "121ab5c8",
   "metadata": {},
   "source": [
    "Fandango is installed as a python module and can be accessed through the command line. The easiest way to install is to run `pip install fandango-fuzzer`. After this, Fandango can be accessed through the terminal using `fandango` (or `python -m fandango`) in the same environment as where it was installed.\n",
    "\n",
    "On Windows, if there are no pre-built wheels, Microsoft Visual Studio Build Tools and the Windows 10 SDK are required to build Fandango."
   ]
  },
  {
   "cell_type": "markdown",
   "id": "6308d1fa",
   "metadata": {},
   "source": [
    "## Name Database (Demo)"
   ]
  },
  {
   "cell_type": "markdown",
   "id": "b490c6ff",
   "metadata": {},
   "source": [
    "You can create a database of name/age pairs by way of a grammar, stored in a .fan file as a set of rules dictating how the Fandango input should be generated. Note that <start> is the very first variable that the grammar should refer to.\n",
    "\n",
    "Then, this command will generate 10 name, age pairs based on the grammar specified in persons.fan (an example .fan file).\n",
    "\n",
    "`fandango fuzz -f persons.fan -n 10`\n",
    "\n",
    "1. `-o FILENAME` redirects the output of the above command into a file FILENAME.\n",
    "2. `-s DELIMITER` replaces the delimiter between outputs with DELIMITER (default is a newline).\n",
    "3. `-d DIRECTORYNAME` stores each output in a directory named DIRECTORYNAME.\n",
    "\n",
    "1. `fandango fuzz -f persons.fan -n 10 -o persons.txt`\n",
    "2. `fandango fuzz -f persons.fan -n 10 -o persons.txt -s ':'`\n",
    "3. `fandango fuzz -f persons.fan -n 10 -d persons`\n",
    "\n",
    "The number of outputs can be limited via the numerical argument -n or -N, where -n refers to the number of solutions/outputs, and -N refers to the number of generated sets.\n",
    "\n",
    "1. fandango fuzz -f persons.fan -n 10 # to limit the number of solutions\n",
    "2. fandango fuzz -f persons.fan -N 10 # to limit the number of generations\n"
   ]
  },
  {
   "cell_type": "markdown",
   "id": "e4bb4661",
   "metadata": {},
   "source": [
    "## Specifying Constraints"
   ]
  },
  {
   "cell_type": "markdown",
   "id": "9e2ca7ce",
   "metadata": {},
   "source": [
    "Constraints can be written as boolean expressions, where \"< VARNAME >\" is used to refer to variable VARNAME. Note that all constraints should be preceded by the \"where\" keyword in grammars. \n",
    "where int(< age >) < 50 (age must be less than 50)\n",
    "\n",
    "In addition to grammars, constraints can also be specified on the command line with -c to denote a constraint.\n",
    "\n",
    "fandango fuzz -f persons.fan -n 10 -c '25 <= int(< age >) and int(< age >) <= 45'\n",
    "\n",
    "How Fandango Solves Constraints\n",
    "1. It first uses the grammar to generate a population of inputs.\n",
    "2. It then checks which individual inputs are closest in fulfilling the given constraints. For instance, for a constraint int(<X>) == 100, an input where <X> has a value of 90 is closer to fulfillment than one with value of, say 20. Selecting the best inputs is also known as “survival of the fittest”.\n",
    "3. The best inputs are selected, the others are discarded.\n",
    "4. Fandango then generates new offspring by mutating the remaining inputs, recomputing parts according to grammar rules. It can also exchange parts with those from other inputs; this is called crossover.\n",
    "5. Fandango then repeats Steps 2-4 until all inputs satisfy the constraints.\n",
    "\n",
    "Soft constraints may also be used, which do not fix values but specify arbitrary minimums and/or maximums instead.\n",
    "1. Ex. fandango fuzz -f persons.fan --maximize 'int(<age>)' (Maximizes age field)\n",
    "2. Ex. fandango fuzz -f persons.fan --minimize 'int(<age>)' (Minimizes age field)\n",
    "\n"
   ]
  },
  {
   "cell_type": "markdown",
   "id": "85b7c880",
   "metadata": {},
   "source": [
    "## Regular Expressions/Complex Inputs"
   ]
  },
  {
   "cell_type": "markdown",
   "id": "fc6d305e",
   "metadata": {},
   "source": [
    "Fandango allows users to instantiate strings from regexp templates, and use regexp to parse and match inputs.\n",
    "\n",
    "By default, there is an imposed repetition limit of 20.\n",
    "\n",
    "Example of RegExp grammar:\n",
    "1. <start> ::= r\"(abc)+\"\n",
    "\n",
    "fandango fuzz -f infinity.fan -n 10\n",
    "\n",
    "Specify {m, n} to limit the number of repetitions to m to n\n",
    "1. <start> ::= r\"(abc){1,5}\"\n",
    "\n",
    "fandango fuzz -f finity.fan -n 5\n",
    "\n",
    "Complex inputs can also be produced in Fandango, like recursive ones:\n",
    "Ex. fandango fuzz -f additions.fan -n 10\n",
    "\n",
    "Need to specify non-recursive terms to prevent infinite recursion\n",
    "\n",
    "Recursive rules can substitute for \"+\"\n",
    "1. Ex. <number> ::= <digit>+\n",
    "2. <number> ::= <digit> <number> | <digit>\n",
    "\n",
    "Other complex inputs include arithmetic\n",
    "1. fandango fuzz -f expr.fan -n 10\n",
    "2. fandango fuzz -f expr-float.fan -n 10\n",
    "3. fandango fuzz -f expr-float.fan -n 10 -c 'eval(str(<start>)) > 1000'\n",
    "\n",
    "Divide by zero errors may occur\n",
    "\n",
    "\n"
   ]
  },
  {
   "cell_type": "markdown",
   "id": "d333812b",
   "metadata": {},
   "source": [
    "## Converting to the .fan specification"
   ]
  },
  {
   "cell_type": "markdown",
   "id": "ddb67e98",
   "metadata": {},
   "source": [
    "It is possible to utilize pre-existing ANTLR grammars to generate Fandango specifications. We can convert ANTLR .g4 files to .fan files using `fandango convert FILE.g4`, where `FILE.g4` is the  is the ANTLR file.\n",
    "\n",
    "- Example: `fandango convert ./specs/name_db.g4`"
   ]
  },
  {
   "cell_type": "markdown",
   "id": "7b4ab8eb",
   "metadata": {},
   "source": [
    "## Interaction using Python API\n"
   ]
  },
  {
   "cell_type": "markdown",
   "id": "8a7636c3",
   "metadata": {},
   "source": [
    "Fandango also provides a limited Python API to perform basic tasks. Specifically, there are two methods, we can generate inputs (fuzz) and parse inputs with respect to a spec."
   ]
  },
  {
   "cell_type": "code",
   "execution_count": 7,
   "id": "3320a984",
   "metadata": {},
   "outputs": [
    {
     "name": "stderr",
     "output_type": "stream",
     "text": [
      "Exception ignored in: <function BaseEventLoop.__del__ at 0x0000022722858A40>\n",
      "Traceback (most recent call last):\n",
      "  File \"C:\\Users\\George\\AppData\\Local\\Programs\\Python\\Python313\\Lib\\asyncio\\base_events.py\", line 763, in __del__\n",
      "    if not self.is_closed():\n",
      "  File \"C:\\Users\\George\\AppData\\Local\\Programs\\Python\\Python313\\Lib\\asyncio\\base_events.py\", line 760, in is_closed\n",
      "    return self._closed\n",
      "AttributeError: '_WindowsSelectorEventLoop' object has no attribute '_closed'\n"
     ]
    },
    {
     "data": {
      "text/plain": [
       "DerivationTree(<start>,\n",
       "  [\n",
       "    DerivationTree(<person_name>,\n",
       "      [\n",
       "        DerivationTree(<first_name>, [DerivationTree(<name>,\n",
       "          [\n",
       "            DerivationTree(<ascii_uppercase_letter>, [DerivationTree(<_ascii_uppercase_letter>, [DerivationTree('X')])]),\n",
       "            DerivationTree(<ascii_lowercase_letter>, [DerivationTree(<_ascii_lowercase_letter>, [DerivationTree('m')])]),\n",
       "            DerivationTree(<ascii_lowercase_letter>, [DerivationTree(<_ascii_lowercase_letter>, [DerivationTree('r')])]),\n",
       "            DerivationTree(<ascii_lowercase_letter>, [DerivationTree(<_ascii_lowercase_letter>, [DerivationTree('q')])]),\n",
       "            DerivationTree(<ascii_lowercase_letter>, [DerivationTree(<_ascii_lowercase_letter>, [DerivationTree('k')])]),\n",
       "          ]\n",
       "        )]),\n",
       "        DerivationTree(' '),\n",
       "        DerivationTree(<last_name>, [DerivationTree(<name>,\n",
       "          [\n",
       "            DerivationTree(<ascii_uppercase_letter>, [DerivationTree(<_ascii_uppercase_letter>, [DerivationTree('Z')])]),\n",
       "            DerivationTree(<ascii_lowercase_letter>, [DerivationTree(<_ascii_lowercase_letter>, [DerivationTree('r')])]),\n",
       "            DerivationTree(<ascii_lowercase_letter>, [DerivationTree(<_ascii_lowercase_letter>, [DerivationTree('s')])]),\n",
       "            DerivationTree(<ascii_lowercase_letter>, [DerivationTree(<_ascii_lowercase_letter>, [DerivationTree('n')])]),\n",
       "            DerivationTree(<ascii_lowercase_letter>, [DerivationTree(<_ascii_lowercase_letter>, [DerivationTree('n')])]),\n",
       "            DerivationTree(<ascii_lowercase_letter>, [DerivationTree(<_ascii_lowercase_letter>, [DerivationTree('e')])]),\n",
       "          ]\n",
       "        )]),\n",
       "      ]\n",
       "    ),\n",
       "    DerivationTree(','),\n",
       "    DerivationTree(<age>, [DerivationTree(<digit>, [DerivationTree(<_digit>, [DerivationTree('9')])])]),\n",
       "  ]\n",
       ")"
      ]
     },
     "execution_count": 7,
     "metadata": {},
     "output_type": "execute_result"
    }
   ],
   "source": [
    "from fandango import Fandango\n",
    "\n",
    "from constants import NAMEDB_SPEC\n",
    "\n",
    "with open(NAMEDB_SPEC, \"r\") as spec:\n",
    "    fan = Fandango(spec)\n",
    "\n",
    "result = fan.fuzz(desired_solutions=1)[0]\n",
    "result"
   ]
  },
  {
   "cell_type": "markdown",
   "id": "c5fe8f58",
   "metadata": {},
   "source": [
    "In fact, the output is a parse tree with respect to the grammar we specified. Below, we can traverse the parsed result. We can access the raw input by invoking the string method `str(result)`."
   ]
  },
  {
   "cell_type": "code",
   "execution_count": 8,
   "id": "4432c0ef",
   "metadata": {},
   "outputs": [
    {
     "name": "stdout",
     "output_type": "stream",
     "text": [
      " <start>\n",
      "   <person_name>\n",
      "     <first_name>\n",
      "       <name>\n",
      "         <ascii_uppercase_letter>\n",
      "           <_ascii_uppercase_letter>\n",
      "             'X'\n",
      "         <ascii_lowercase_letter>\n",
      "           <_ascii_lowercase_letter>\n",
      "             'm'\n",
      "         <ascii_lowercase_letter>\n",
      "           <_ascii_lowercase_letter>\n",
      "             'r'\n",
      "         <ascii_lowercase_letter>\n",
      "           <_ascii_lowercase_letter>\n",
      "             'q'\n",
      "         <ascii_lowercase_letter>\n",
      "           <_ascii_lowercase_letter>\n",
      "             'k'\n",
      "     ' '\n",
      "     <last_name>\n",
      "       <name>\n",
      "         <ascii_uppercase_letter>\n",
      "           <_ascii_uppercase_letter>\n",
      "             'Z'\n",
      "         <ascii_lowercase_letter>\n",
      "           <_ascii_lowercase_letter>\n",
      "             'r'\n",
      "         <ascii_lowercase_letter>\n",
      "           <_ascii_lowercase_letter>\n",
      "             's'\n",
      "         <ascii_lowercase_letter>\n",
      "           <_ascii_lowercase_letter>\n",
      "             'n'\n",
      "         <ascii_lowercase_letter>\n",
      "           <_ascii_lowercase_letter>\n",
      "             'n'\n",
      "         <ascii_lowercase_letter>\n",
      "           <_ascii_lowercase_letter>\n",
      "             'e'\n",
      "   ','\n",
      "   <age>\n",
      "     <digit>\n",
      "       <_digit>\n",
      "         '9'\n"
     ]
    }
   ],
   "source": [
    "from fandango import DerivationTree\n",
    "\n",
    "def traverse_tree(node: DerivationTree, depth=0):\n",
    "    indent = \"  \" * depth  # indentation for readability\n",
    "    print(f\"{indent} {node.symbol.format_as_spec()}\")\n",
    "\n",
    "    for child in node.children:\n",
    "        traverse_tree(child, depth + 1)\n",
    "\n",
    "for tree in fan.parse(result):\n",
    "    traverse_tree(tree)"
   ]
  },
  {
   "cell_type": "markdown",
   "id": "964cf2ad",
   "metadata": {},
   "source": [
    "Finally, we can parse inputs to test whether they meet a specification"
   ]
  },
  {
   "cell_type": "code",
   "execution_count": 9,
   "id": "9320e611",
   "metadata": {},
   "outputs": [
    {
     "name": "stdout",
     "output_type": "stream",
     "text": [
      " <start>\n",
      "   <person_name>\n",
      "     <first_name>\n",
      "       <name>\n",
      "         <ascii_uppercase_letter>\n",
      "           <_ascii_uppercase_letter>\n",
      "             'L'\n",
      "         <ascii_lowercase_letter>\n",
      "           <_ascii_lowercase_letter>\n",
      "             'p'\n",
      "     ' '\n",
      "     <last_name>\n",
      "       <name>\n",
      "         <ascii_uppercase_letter>\n",
      "           <_ascii_uppercase_letter>\n",
      "             'M'\n",
      "         <ascii_lowercase_letter>\n",
      "           <_ascii_lowercase_letter>\n",
      "             'y'\n",
      "         <ascii_lowercase_letter>\n",
      "           <_ascii_lowercase_letter>\n",
      "             'e'\n",
      "         <ascii_lowercase_letter>\n",
      "           <_ascii_lowercase_letter>\n",
      "             'i'\n",
      "   ','\n",
      "   <age>\n",
      "     <digit>\n",
      "       <_digit>\n",
      "         '5'\n",
      "     <digit>\n",
      "       <_digit>\n",
      "         '5'\n",
      "     <digit>\n",
      "       <_digit>\n",
      "         '2'\n",
      "     <digit>\n",
      "       <_digit>\n",
      "         '0'\n",
      "     <digit>\n",
      "       <_digit>\n",
      "         '4'\n"
     ]
    }
   ],
   "source": [
    "sample = \"Lp Myei,55204\"\n",
    "p_sample = fan.parse(sample)  # returns a generator of DerivationTrees\n",
    "for tree in p_sample:\n",
    "    traverse_tree(tree)"
   ]
  }
 ],
 "metadata": {
  "kernelspec": {
   "display_name": ".venv",
   "language": "python",
   "name": "python3"
  },
  "language_info": {
   "codemirror_mode": {
    "name": "ipython",
    "version": 3
   },
   "file_extension": ".py",
   "mimetype": "text/x-python",
   "name": "python",
   "nbconvert_exporter": "python",
   "pygments_lexer": "ipython3",
   "version": "3.13.7"
  }
 },
 "nbformat": 4,
 "nbformat_minor": 5
}
