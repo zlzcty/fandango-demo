{
 "cells": [
  {
   "cell_type": "markdown",
   "id": "e7a8faaf",
   "metadata": {},
   "source": [
    "## Install"
   ]
  },
  {
   "cell_type": "markdown",
   "id": "121ab5c8",
   "metadata": {},
   "source": [
    "Fandango is installed as a python module and can be accessed through the command line. The easiest way to install is to run `pip install fandango-fuzzer`. After this, Fandango can be accessed through the terminal using `fandango` (or `python -m fandango`) in the same environment as where it was installed.\n",
    "\n",
    "On Windows, if there are no pre-built wheels, Microsoft Visual Studio Build Tools and the Windows 10 SDK are required to build Fandango."
   ]
  },
  {
   "cell_type": "markdown",
   "id": "d333812b",
   "metadata": {},
   "source": [
    "## Converting to the .fan specification"
   ]
  },
  {
   "cell_type": "markdown",
   "id": "7b4ab8eb",
   "metadata": {},
   "source": [
    "## Interaction using Python API\n"
   ]
  },
  {
   "cell_type": "markdown",
   "id": "9774f6d1",
   "metadata": {},
   "source": [
    "## Name Database (Demo)"
   ]
  },
  {
   "cell_type": "markdown",
   "id": "5826f79f",
   "metadata": {},
   "source": [
    "You can create a database of name/age pairs by way of a grammar, stored in a .fan file as a set of rules dictating how the Fandango input should be generated. Note that <start> is the very first variable that the grammar should refer to.\n",
    "\n",
    "Then, this command will generate 10 name, age pairs based on the grammar specified in persons.fan (an example .fan file).\n",
    "\n",
    "fandango fuzz -f persons.fan -n 10\n",
    "\n",
    "'-o FILENAME' redirects the output of the above command into a file FILENAME.\n",
    "'-s DELIMITER' replaces the delimiter between outputs with DELIMITER (default is a newline).\n",
    "'-d DIRECTORYNAME' stores each output in a directory named DIRECTORYNAME.\n",
    "\n",
    "fandango fuzz -f persons.fan -n 10 -o persons.txt\n",
    "fandango fuzz -f persons.fan -n 10 -o persons.txt -s ':'\n",
    "fandango fuzz -f persons.fan -n 10 -d persons\n",
    "\n",
    "The number of outputs can be limited via the numerical argument -n or -N, where -n refers to the number of solutions/outputs, and -N refers to the number of generated sets.\n",
    "\n",
    "fandango fuzz -f persons.fan -n 10 # to limit the number of solutions\n",
    "fandango fuzz -f persons.fan -N 10 # to limit the number of generations\n"
   ]
  }
 ],
 "metadata": {
  "language_info": {
   "name": "python"
  }
 },
 "nbformat": 4,
 "nbformat_minor": 5
}
