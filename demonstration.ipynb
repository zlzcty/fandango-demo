{
 "cells": [
  {
   "cell_type": "markdown",
   "id": "e7a8faaf",
   "metadata": {},
   "source": [
    "## Install"
   ]
  },
  {
   "cell_type": "markdown",
   "id": "121ab5c8",
   "metadata": {},
   "source": [
    "Fandango is installed as a python module and can be accessed through the command line. The easiest way to install is to run `pip install fandango-fuzzer`. After this, Fandango can be accessed through the terminal using `fandango` (or `python -m fandango`) in the same environment as where it was installed.\n",
    "\n",
    "On Windows, if there are no pre-built wheels, Microsoft Visual Studio Build Tools and the Windows 10 SDK are required to build Fandango."
   ]
  },
  {
   "cell_type": "markdown",
   "id": "d333812b",
   "metadata": {},
   "source": [
    "## Converting to the .fan specification"
   ]
  },
  {
   "cell_type": "markdown",
   "id": "7b4ab8eb",
   "metadata": {},
   "source": [
    "## Interaction using Python API\n"
   ]
  },
  {
   "cell_type": "markdown",
   "id": "9774f6d1",
   "metadata": {},
   "source": [
    "## Name Database (Demo)"
   ]
  },
  {
   "cell_type": "markdown",
   "id": "5826f79f",
   "metadata": {},
   "source": [
    "You can create a database of name/age pairs by way of a grammar, stored in a .fan file as a set of rules dictating how the Fandango input should be generated. Note that <start> is the very first variable that the grammar should refer to.\n",
    "\n",
    "Then, this command will generate 10 name, age pairs based on the grammar specified in persons.fan (an example .fan file).\n",
    "\n",
    "fandango fuzz -f persons.fan -n 10\n",
    "\n",
    "1. '-o FILENAME' redirects the output of the above command into a file FILENAME.\n",
    "2. '-s DELIMITER' replaces the delimiter between outputs with DELIMITER (default is a newline).\n",
    "3. '-d DIRECTORYNAME' stores each output in a directory named DIRECTORYNAME.\n",
    "\n",
    "1. fandango fuzz -f persons.fan -n 10 -o persons.txt\n",
    "2. fandango fuzz -f persons.fan -n 10 -o persons.txt -s ':'\n",
    "3. fandango fuzz -f persons.fan -n 10 -d persons\n",
    "\n",
    "The number of outputs can be limited via the numerical argument -n or -N, where -n refers to the number of solutions/outputs, and -N refers to the number of generated sets.\n",
    "\n",
    "1. fandango fuzz -f persons.fan -n 10 # to limit the number of solutions\n",
    "2. fandango fuzz -f persons.fan -N 10 # to limit the number of generations\n"
   ]
  },
  {
   "cell_type": "markdown",
   "id": "c5762646",
   "metadata": {},
   "source": [
    "## Specifying Constraints"
   ]
  },
  {
   "cell_type": "markdown",
   "id": "bd9a6f38",
   "metadata": {},
   "source": [
    "Constraints can be written as boolean expressions, where \"< VARNAME >\" is used to refer to variable VARNAME. Note that all constraints should be preceded by the \"where\" keyword in grammars. \n",
    "where int(< age >) < 50 (age must be less than 50)\n",
    "\n",
    "In addition to grammars, constraints can also be specified on the command line with -c to denote a constraint.\n",
    "\n",
    "fandango fuzz -f persons.fan -n 10 -c '25 <= int(< age >) and int(< age >) <= 45'\n",
    "\n",
    "How Fandango Solves Constraints\n",
    "1. It first uses the grammar to generate a population of inputs.\n",
    "2. It then checks which individual inputs are closest in fulfilling the given constraints. For instance, for a constraint int(<X>) == 100, an input where <X> has a value of 90 is closer to fulfillment than one with value of, say 20. Selecting the best inputs is also known as “survival of the fittest”.\n",
    "3. The best inputs are selected, the others are discarded.\n",
    "4. Fandango then generates new offspring by mutating the remaining inputs, recomputing parts according to grammar rules. It can also exchange parts with those from other inputs; this is called crossover.\n",
    "5. Fandango then repeats Steps 2-4 until all inputs satisfy the constraints.\n",
    "\n",
    "Soft constraints may also be used, which do not fix values but specify arbitrary minimums and/or maximums instead.\n",
    "1. Ex. fandango fuzz -f persons.fan --maximize 'int(<age>)' (Maximizes age field)\n",
    "2. Ex. fandango fuzz -f persons.fan --minimize 'int(<age>)' (Minimizes age field)\n",
    "\n"
   ]
  }
 ],
 "metadata": {
  "language_info": {
   "name": "python"
  }
 },
 "nbformat": 4,
 "nbformat_minor": 5
}
